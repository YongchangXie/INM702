{
 "cells": [
  {
   "cell_type": "markdown",
   "id": "485529a3",
   "metadata": {},
   "source": [
    "# Task 4"
   ]
  },
  {
   "cell_type": "code",
   "execution_count": null,
   "id": "d23a2af4",
   "metadata": {},
   "outputs": [],
   "source": [
    "import torchvision\n",
    "import torch\n",
    "import numpy as np\n",
    "from torch import nn\n",
    "from torchvision import transforms\n",
    "from torch.utils.data import DataLoader\n",
    "import torch.nn.functional as F\n",
    "import torch.optim as optim\n",
    "import time\n",
    "import pandas as pd\n",
    "import torchvision.datasets as datasets\n",
    "from IPython import display\n",
    "import matplotlib.pyplot as plt"
   ]
  },
  {
   "cell_type": "markdown",
   "id": "09293b50",
   "metadata": {},
   "source": [
    "# Dataset Loading & Processing\n",
    "\n",
    "Load dataset and split the data into training set and validation set. DataLoader in torch.utils are used for loading therequired data bypassing various parameters, (e.g. batch size).\n",
    "Referenced: https://www.kaggle.com/lonnieqin/cifar10-image-classification-with-pytorch"
   ]
  },
  {
   "cell_type": "code",
   "execution_count": 2,
   "id": "66af6830",
   "metadata": {},
   "outputs": [
    {
     "name": "stdout",
     "output_type": "stream",
     "text": [
      "Files already downloaded and verified\n",
      "Files already downloaded and verified\n"
     ]
    }
   ],
   "source": [
    "batch_size = 64\n",
    "transform = transforms.Compose([\n",
    "    transforms.Resize(64),\n",
    "    transforms.ToTensor(),\n",
    "    transforms.Normalize(mean=[0.485, 0.456, 0.406], std=[0.229, 0.224, 0.225])\n",
    "])\n",
    "\n",
    "train_ds = DataLoader(datasets.CIFAR10(\"data\", train=True, transform=transform, download=True), batch_size=batch_size)\n",
    "valid_ds = DataLoader(datasets.CIFAR10(\"data\", train=False, transform=transform, download=True), batch_size=batch_size)"
   ]
  },
  {
   "cell_type": "markdown",
   "id": "ecccf8b6",
   "metadata": {},
   "source": [
    "# Implement Neural Networks\n",
    "Apply a simple neural network by PyTorch for classification"
   ]
  },
  {
   "cell_type": "code",
   "execution_count": 3,
   "id": "6799ae2e",
   "metadata": {},
   "outputs": [],
   "source": [
    "# Setting a regular neural network for classfication \n",
    "class Neural_Network():\n",
    "    def __init__(self):\n",
    "        classifier = nn.Sequential(\n",
    "            nn.Dropout(),                           # implement Dropuout \n",
    "            nn.Linear(256 * 6 * 6, 1024),            # Input size is equal to number of output from final convolution time the size of average pooling\n",
    "            nn.ReLU(),                              # Apply ReLu activation funciton\n",
    "            nn.Dropout(),\n",
    "            nn.Linear(1024, 512),                   # the input to the linear funcntion is the output from last layer\n",
    "            nn.ReLU(),                               # Apply ReLu activation funciton\n",
    "            nn.Linear(512, 10)             # get the final output with the size same as target value \n",
    "        )\n"
   ]
  },
  {
   "cell_type": "markdown",
   "id": "3dd76758",
   "metadata": {},
   "source": [
    "##### Improvements for Neural Networkds( Convolution NN & Dropout) "
   ]
  },
  {
   "cell_type": "markdown",
   "id": "d5d42987",
   "metadata": {},
   "source": [
    "The Convolutional Neural Networks have three important Layers\n",
    "- Convolutional Layer : Used to extract features from the image.\n",
    "- Pooling Layer : The main goal of this layer is to reduce the convoluted size of the feature map and to reduce Computational costs.\n",
    "- Activation Functions : These are used to learn and approximate any kind of continuous and complex relations between variables of the network.\n",
    "\n",
    "\n",
    "Dropout is applied to improvce generalization error and reduce overfitting problem.\n",
    "\n",
    "\n",
    "Referecnes:\n",
    "- https://www.kaggle.com/lonnieqin/cifar10-image-classification-with-pytorch\n",
    "-https://www.analyticsvidhya.com/blog/2021/09/convolutional-neural-network-pytorch-implementation-on-cifar10-dataset/\n"
   ]
  },
  {
   "cell_type": "code",
   "execution_count": null,
   "id": "a9c25c75",
   "metadata": {},
   "outputs": [],
   "source": [
    "class CNN(nn.Module):\n",
    "    \n",
    "    def __init__(self, no_class):\n",
    "        super(CNN, self).__init__()                  # Setting the initial parameter\n",
    "        self.convolution = nn.Sequential(                           # Import Neural Network module from torch\n",
    "# Define first 2D convolution layer\n",
    "            nn.Conv2d(3, 64, kernel_size=3, padding=2),     # Applies a 2D convolution form input image\n",
    "            # create 3 channels in the import image, as 3 direct to the colored image and in RBG format and produce 64 output chanel by Convolution, \n",
    "            # the size of convolving kernel is 3 with replicate padding mode\n",
    "            nn.ReLU(),                                      # Apply ReLu activation funciton\n",
    "            nn.MaxPool2d(kernel_size=3, stride=2),          # Applies a 2D max pooling over an input signal composed of several input planes.\n",
    "# Define Second 2D convolution layer            \n",
    "            nn.Conv2d(64, 128, kernel_size=5, padding=2),         # Applies a 2D convolution over an input signal composed of several input planes.\n",
    "           # the input size is same as the previous convolution output, the output size is set to be 2 times larger \n",
    "            nn.ReLU(),                                           # Apply ReLu activation funciton\n",
    "            nn.MaxPool2d(kernel_size=3, stride=2),\n",
    "# Define Third 2D convolution layer            \n",
    "            nn.Conv2d(128, 256, kernel_size=3, padding=1),\n",
    "            nn.ReLU(),                                        \n",
    "# Define Fourth 2D convolution layer \n",
    "            nn.Conv2d(256, 256, kernel_size=3, padding=1),\n",
    "            nn.ReLU(),                                       \n",
    "            nn.MaxPool2d(kernel_size=3, stride=2)\n",
    "        )\n",
    "        self.average_pool = nn.AdaptiveAvgPool2d((6, 6))         # To creat a average pooling to input signal from several input planes  \n",
    "        \n",
    "        # apply a classifier to faltten the layer to bulid a linear layer to map the values to 10 target values\n",
    "        # Which is help to determine the class\n",
    "        self.classifier = nn.Sequential(\n",
    "            nn.Dropout(),                           # implement Dropuout \n",
    "            nn.Linear(256 * 6 * 6, 1024),            # Input size is equal to number of output from final convolution time the size of average pooling\n",
    "            nn.ReLU(),                              # Apply ReLu activation funciton\n",
    "            nn.Dropout(),\n",
    "            nn.Linear(1024, 512),                   # the input to the linear funcntion is the output from last layer\n",
    "            nn.ReLU(),                               # Apply ReLu activation funciton\n",
    "            nn.Linear(512, no_class)             # get the final output with the size same as target value \n",
    "        )\n",
    "    \n",
    "    def forward(self, x):                 # Define the forward, where x is the input image\n",
    "        x = self.convolution(x)              # calculate the convolution of input image\n",
    "        x = self.average_pool(x)                # average the polling from output of convolution\n",
    "        x = torch.flatten(x, start_dim =1)            # faltten the output of average poiling to array\n",
    "        x = self.classifier(x)                       # Using normal neural network to calculate the output where input is from convolution \n",
    "        return x"
   ]
  },
  {
   "cell_type": "markdown",
   "id": "9272e1de",
   "metadata": {},
   "source": [
    "Implement final model for Convolution Neural Network to this machine learning problme which have 10 features."
   ]
  },
  {
   "cell_type": "code",
   "execution_count": 4,
   "id": "8862ecd7",
   "metadata": {},
   "outputs": [
    {
     "data": {
      "text/plain": [
       "CNNModel(\n",
       "  (features): Sequential(\n",
       "    (0): Conv2d(3, 64, kernel_size=(3, 3), stride=(1, 1), padding=(2, 2))\n",
       "    (1): ReLU()\n",
       "    (2): MaxPool2d(kernel_size=3, stride=2, padding=0, dilation=1, ceil_mode=False)\n",
       "    (3): Conv2d(64, 128, kernel_size=(5, 5), stride=(1, 1), padding=(2, 2))\n",
       "    (4): ReLU()\n",
       "    (5): MaxPool2d(kernel_size=3, stride=2, padding=0, dilation=1, ceil_mode=False)\n",
       "    (6): Conv2d(128, 256, kernel_size=(3, 3), stride=(1, 1), padding=(1, 1))\n",
       "    (7): ReLU()\n",
       "    (8): Conv2d(256, 256, kernel_size=(3, 3), stride=(1, 1), padding=(1, 1))\n",
       "    (9): ReLU()\n",
       "    (10): MaxPool2d(kernel_size=3, stride=2, padding=0, dilation=1, ceil_mode=False)\n",
       "  )\n",
       "  (avgpool): AdaptiveAvgPool2d(output_size=(6, 6))\n",
       "  (classifier): Sequential(\n",
       "    (0): Dropout(p=0.5, inplace=False)\n",
       "    (1): Linear(in_features=9216, out_features=4096, bias=True)\n",
       "    (2): ReLU()\n",
       "    (3): Dropout(p=0.5, inplace=False)\n",
       "    (4): Linear(in_features=4096, out_features=4096, bias=True)\n",
       "    (5): ReLU()\n",
       "    (6): Linear(in_features=4096, out_features=10, bias=True)\n",
       "  )\n",
       ")"
      ]
     },
     "execution_count": 4,
     "metadata": {},
     "output_type": "execute_result"
    }
   ],
   "source": [
    "model = CNN(no_class=10)"
   ]
  },
  {
   "cell_type": "markdown",
   "id": "d0e594e2",
   "metadata": {},
   "source": [
    "# Training \n",
    "Create a basic step to train the CNN been build and to get the required output. For loop is created for iterate the mode over each epoch. The progressing using CPU for each batch are setted. The backward function is requied to add in each iteration in order to update optimum parameter values.\n",
    "Reference:\n",
    "- https://www.analyticsvidhya.com/blog/2021/09/convolutional-neural-network-pytorch-implementation-on-cifar10-dataset/\n",
    "- https://www.kaggle.com/lonnieqin/cifar10-image-classification-with-pytorch\n",
    "- https://d2l.ai/chapter_computer-vision/kaggle-cifar10.html\n",
    "- https://www.cs.toronto.edu/~lczhang/aps360_20191/lec/w03/convnet.html"
   ]
  },
  {
   "cell_type": "code",
   "execution_count": null,
   "id": "ba089665",
   "metadata": {},
   "outputs": [
    {
     "data": {
      "image/png": "[encoded data removed]",
      "text/plain": [
       "<Figure size 432x288 with 1 Axes>"
      ]
     },
     "metadata": {
      "needs_background": "light"
     },
     "output_type": "display_data"
    },
    {
     "name": "stdout",
     "output_type": "stream",
     "text": [
      "Epoch 2: [Training] 1523.95s/7944.84s\n"
     ]
    }
   ],
   "source": [
    "# Define a funciton to disply the the results of training and testing \n",
    "# Code Reference: https://www.kaggle.com/samanemami/convolutional-nn-cifar10-79-acc-138-sec\n",
    "def display_resultes(message, metrics):\n",
    "    display.clear_output(wait=False) \n",
    "    if len(metrics[\"loss\"]) > 0:\n",
    "        pd.DataFrame(metrics).plot()   \n",
    "        plt.show()\n",
    "    print(message)\n",
    "\n",
    "epochs = 10\n",
    "train_steps = len(train_data)\n",
    "valid_steps = len(validation_data)\n",
    "optimizer = optim.Adam(model.parameters(), learning_rate=0.001)        # input a Adam optimizer with learnign rate 0.001\n",
    "loss_CEL = torch.nn.CrossEntropyLoss()                                  # Input cross entropy loss function for loss calculation\n",
    "metrics = {\"loss\": [], \"val_loss\": [], \"val_accuracy\": []}             # Create a matrix to store loss, validation loss and validation accuracy\n",
    "device = torch.device(\"cpu\")                                          # Selecting CPU to do the calculation\n",
    "model.to(device)\n",
    "for epoch in range(epochs):\n",
    "    train_losses = []           # Create a marray to store the resultes of train loss\n",
    "    valid_losses = []           # Create a marray to store the resultes of validation loss      \n",
    "    model.train()               \n",
    "\n",
    "# Developing a for loop iteration to train the dataset\n",
    "    for batch in train_data:\n",
    "        inputs, targets = batch              \n",
    "        inputs = inputs.to(device)         # using cpu to import input value\n",
    "        targets = targets.to(device)       # using cpu to import target label\n",
    "        output = model(inputs)             # using the input value from training set and CNN to calculate results \n",
    "        loss = loss_CEL(output, targets)  # calculate the loss between predict value and target value\n",
    "        train_losses.append(loss.data.item())  # Store the train loss into the dataframe\n",
    "        loss.backward()                    # apply backward funciton to loss, in order to find the gradient of output values and parameters  \n",
    "        optimizer.step()                   #  performs a parameter update based on the current gradient and the update rule \n",
    "        optimizer.zero_grad()               # call the optimizer.zero_grad to store the gradient of each parameter after backward function\n",
    "        \n",
    "\n",
    "# Developing a for loop iteration to test the dataset\n",
    "    no_correct = 0\n",
    "    no_samples = 0\n",
    "    for batch in validation_data:\n",
    "        optimizer.zero_grad()\n",
    "        inputs, targets = batch\n",
    "        inputs = inputs.to(device)          # using cpu to import input value\n",
    "        targets = targets.to(device)        # using cpu to import target label\n",
    "        output = model(inputs)             # using the input value from validation set and CNN to calculate results \n",
    "        loss = loss_CEL(output, targets)     # calculate the loss between predict value and target value\n",
    "        valid_losses.append(loss.data.item())    # Store the testing loss into the dataframe\n",
    "        \n",
    "        correct_prediciton = torch.eq(torch.max(F.softmax(output), dim=1)[1], targets).view(-1)   # input softmax function to determining the accurancy of the prediction\n",
    "        no_correct += torch.sum(correct_prediciton).item()       # calculate all the number of correct prediction\n",
    "        no_samples += correct_prediciton.shape[0]                # number of sample  \n",
    "\n",
    "# Evaluation to the CNN performance \n",
    "    train_loss = torch.mean(torch.Tensor(train_losses)).item()   # function to add up the trainig loss and store the value into matrix \n",
    "    valid_loss = torch.mean(torch.Tensor(valid_losses)).item()   # function to add up the validation loss and store the value into matrix \n",
    "    accuracy = no_correct / no_samples if no_samples > 0 else 0    # function to calculate overall performance of CNN\n",
    "    metrics[\"loss\"].append(train_loss)                       # store all the loss value into blank matrix created before\n",
    "    metrics[\"val_loss\"].append(valid_loss)                 # store all the validation loss value into blank matrix created before\n",
    "    metrics[\"val_accuracy\"].append(accuracy)                # store all the accuracy value into blank matrix created before\n",
    "    display.clear_output(wait=False) \n",
    "    pd.DataFrame(metrics).plot()                            # plot the results \n",
    "    plt.show()\n",
    "    display_resultes(\n",
    "        \"Training Loss: %.2f Validation Loss: %.2f accuracy: %.2f\" %(train_loss, valid_loss, accuracy), \n",
    "        metrics\n",
    "    )"
   ]
  },
  {
   "cell_type": "code",
   "execution_count": null,
   "id": "35c1dbf8",
   "metadata": {},
   "outputs": [],
   "source": []
  },
  {
   "cell_type": "code",
   "execution_count": null,
   "id": "61589c19",
   "metadata": {},
   "outputs": [],
   "source": []
  }
 ],
 "metadata": {
  "kernelspec": {
   "display_name": "Python 3",
   "language": "python",
   "name": "python3"
  },
  "language_info": {
   "codemirror_mode": {
    "name": "ipython",
    "version": 3
   },
   "file_extension": ".py",
   "mimetype": "text/x-python",
   "name": "python",
   "nbconvert_exporter": "python",
   "pygments_lexer": "ipython3",
   "version": "3.8.8"
  }
 },
 "nbformat": 4,
 "nbformat_minor": 5
}
